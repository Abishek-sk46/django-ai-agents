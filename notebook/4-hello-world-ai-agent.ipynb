{
 "cells": [
  {
   "cell_type": "code",
   "execution_count": 2,
   "id": "28e07b6f",
   "metadata": {},
   "outputs": [],
   "source": [
    "import setup\n",
    "setup.init()"
   ]
  },
  {
   "cell_type": "code",
   "execution_count": 3,
   "id": "61e928bd",
   "metadata": {},
   "outputs": [],
   "source": [
    "from ai.agents import get_agent"
   ]
  },
  {
   "cell_type": "code",
   "execution_count": 4,
   "id": "a35b7348",
   "metadata": {},
   "outputs": [],
   "source": [
    "\n",
    "agent = get_agent()"
   ]
  },
  {
   "cell_type": "code",
   "execution_count": 10,
   "id": "b984b287",
   "metadata": {},
   "outputs": [
    {
     "name": "stdout",
     "output_type": "stream",
     "text": [
      "{'tags': [], 'metadata': {'user_id': '2', 'langgraph_step': 2, 'langgraph_node': 'tools', 'langgraph_triggers': ('__pregel_push',), 'langgraph_path': ('__pregel_push', 0, False), 'langgraph_checkpoint_ns': 'tools:0d3b2c47-d566-fe08-ad36-a0ea1cac674a', 'checkpoint_ns': 'tools:0d3b2c47-d566-fe08-ad36-a0ea1cac674a'}, 'callbacks': <langchain_core.callbacks.manager.CallbackManager object at 0x0000025CDC980380>, 'recursion_limit': 25, 'configurable': {'user_id': '2', 'thread_id': UUID('61a3cad5-b526-46f4-bd44-2fa3426776a5'), '__pregel_runtime': Runtime(context=None, store=None, stream_writer=<function Pregel.stream.<locals>.stream_writer at 0x0000025CDCA81BC0>, previous=None), '__pregel_task_id': '0d3b2c47-d566-fe08-ad36-a0ea1cac674a', '__pregel_send': <built-in method extend of collections.deque object at 0x0000025CDCB02200>, '__pregel_read': functools.partial(<function local_read at 0x0000025CD813C680>, PregelScratchpad(step=2, stop=25, call_counter=<langgraph.pregel._algo.LazyAtomicCounter object at 0x0000025CDC9E8EE0>, interrupt_counter=<langgraph.pregel._algo.LazyAtomicCounter object at 0x0000025CDC9EAF20>, get_null_resume=<function _scratchpad.<locals>.get_null_resume at 0x0000025CDCAE7E20>, resume=[], subgraph_counter=<langgraph.pregel._algo.LazyAtomicCounter object at 0x0000025CDC9EAEC0>), {'messages': <langgraph.channels.binop.BinaryOperatorAggregate object at 0x0000025CDCAD1D40>, '__start__': <langgraph.channels.ephemeral_value.EphemeralValue object at 0x0000025CDCAD37C0>, '__pregel_tasks': <langgraph.channels.topic.Topic object at 0x0000025CDCAD2980>, 'branch:to:agent': <langgraph.channels.ephemeral_value.EphemeralValue object at 0x0000025CDCAD3BC0>, 'branch:to:tools': <langgraph.channels.ephemeral_value.EphemeralValue object at 0x0000025CDCAD21C0>}, {'is_last_step': <class 'langgraph.managed.is_last_step.IsLastStepManager'>, 'remaining_steps': <class 'langgraph.managed.is_last_step.RemainingStepsManager'>}, PregelTaskWrites(path=('__pregel_push', 0, False), name='tools', writes=deque([]), triggers=('__pregel_push',))), '__pregel_checkpointer': None, 'checkpoint_map': {'': '1f072ead-62c5-6f42-8001-0d14e3e08873'}, 'checkpoint_id': None, 'checkpoint_ns': 'tools:0d3b2c47-d566-fe08-ad36-a0ea1cac674a', '__pregel_scratchpad': PregelScratchpad(step=2, stop=25, call_counter=<langgraph.pregel._algo.LazyAtomicCounter object at 0x0000025CDC9E8EE0>, interrupt_counter=<langgraph.pregel._algo.LazyAtomicCounter object at 0x0000025CDC9EAF20>, get_null_resume=<function _scratchpad.<locals>.get_null_resume at 0x0000025CDCAE7E20>, resume=[], subgraph_counter=<langgraph.pregel._algo.LazyAtomicCounter object at 0x0000025CDC9EAEC0>), '__pregel_call': functools.partial(<function _call at 0x0000025CD81659E0>, <weakref at 0x0000025CDCAD5170; to 'PregelExecutableTask' at 0x0000025CDCAC0320>, retry_policy=None, futures=<weakref at 0x0000025CDCAD49A0; to 'FuturesDict' at 0x0000025CDCAD4AF0>, schedule_task=<bound method SyncPregelLoop.accept_push of <langgraph.pregel._loop.SyncPregelLoop object at 0x0000025CDC9EBC20>>, submit=<weakref at 0x0000025CDC3097D0; to 'BackgroundExecutor' at 0x0000025CDC9E9B80>)}}\n"
     ]
    }
   ],
   "source": [
    "import uuid\n",
    "config = {\"configurable\" : {\"user_id\" : \"2\", \"thread_id\":uuid.uuid4() }}\n",
    "\n",
    "response = agent.invoke(\n",
    "    {\"messages\" :\n",
    "       [\n",
    "           {\"role\": \"user\" , \"content\": \"what are the recent documents?\"}\n",
    "       ]\n",
    "     },\n",
    "     config\n",
    ")"
   ]
  },
  {
   "cell_type": "code",
   "execution_count": 12,
   "id": "d32ddf62",
   "metadata": {},
   "outputs": [
    {
     "name": "stdout",
     "output_type": "stream",
     "text": [
      "0 what are the recent documents?\n",
      "\n",
      "\n",
      "1 \n",
      "\n",
      "\n",
      "2 [{\"id\": 3, \"title\": \"Title-2\"}, {\"id\": 2, \"title\": \"Title-1\"}, {\"id\": 1, \"title\": \"Title\"}]\n",
      "\n",
      "\n",
      "3 The recent documents are: Title-2 (ID:3), Title-1 (ID:2), Title (ID:1).\n",
      "\n",
      "\n"
     ]
    }
   ],
   "source": [
    "for i, msg in enumerate(response['messages']):\n",
    "    print(i,msg.content)\n",
    "    print(\"\\n\")"
   ]
  }
 ],
 "metadata": {
  "kernelspec": {
   "display_name": "venv",
   "language": "python",
   "name": "python3"
  },
  "language_info": {
   "codemirror_mode": {
    "name": "ipython",
    "version": 3
   },
   "file_extension": ".py",
   "mimetype": "text/x-python",
   "name": "python",
   "nbconvert_exporter": "python",
   "pygments_lexer": "ipython3",
   "version": "3.12.4"
  }
 },
 "nbformat": 4,
 "nbformat_minor": 5
}
