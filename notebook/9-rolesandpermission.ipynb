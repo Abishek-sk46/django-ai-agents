{
 "cells": [
  {
   "cell_type": "code",
   "execution_count": 3,
   "id": "6ee44b1f",
   "metadata": {},
   "outputs": [],
   "source": [
    "import setup\n",
    "setup.init()"
   ]
  },
  {
   "cell_type": "code",
   "execution_count": 4,
   "id": "5279e95c",
   "metadata": {},
   "outputs": [],
   "source": [
    "from mypermit import permit_client\n",
    "\n",
    "permit = permit_client"
   ]
  },
  {
   "cell_type": "code",
   "execution_count": 5,
   "id": "2d490d94",
   "metadata": {},
   "outputs": [
    {
     "data": {
      "text/plain": [
       "PaginatedResultUserRead(data=[], total_count=0, page_count=0)"
      ]
     },
     "execution_count": 5,
     "metadata": {},
     "output_type": "execute_result"
    }
   ],
   "source": [
    "await permit.api.users.list()"
   ]
  },
  {
   "cell_type": "code",
   "execution_count": 55,
   "id": "d3241604",
   "metadata": {},
   "outputs": [],
   "source": [
    "from django.contrib.auth import get_user_model\n",
    "\n",
    "User = get_user_model()"
   ]
  },
  {
   "cell_type": "code",
   "execution_count": 12,
   "id": "b1235a5f",
   "metadata": {},
   "outputs": [
    {
     "name": "stdout",
     "output_type": "stream",
     "text": [
      "key='1' id=UUID('b7270928-62cf-455e-905c-d3afe544bffb') organization_id=UUID('7613bbbb-aafc-477b-928e-e0d4a3f298ca') project_id=UUID('d873adca-2b46-4064-a9d5-76d54732c870') environment_id=UUID('412a05d3-ae9e-444e-9c8d-eef5a5958b51') associated_tenants=[] roles=[] created_at=datetime.datetime(2025, 8, 14, 14, 13, 8, tzinfo=datetime.timezone.utc) updated_at=datetime.datetime(2025, 8, 14, 14, 19, 7, tzinfo=datetime.timezone.utc) email=None first_name='root' last_name=None attributes=None\n",
      "key='2' id=UUID('9b593223-ffb2-4dc1-aa84-f4ff970a4e32') organization_id=UUID('7613bbbb-aafc-477b-928e-e0d4a3f298ca') project_id=UUID('d873adca-2b46-4064-a9d5-76d54732c870') environment_id=UUID('412a05d3-ae9e-444e-9c8d-eef5a5958b51') associated_tenants=[] roles=[] created_at=datetime.datetime(2025, 8, 14, 14, 13, 12, tzinfo=datetime.timezone.utc) updated_at=datetime.datetime(2025, 8, 14, 14, 19, 10, tzinfo=datetime.timezone.utc) email=None first_name='abi' last_name=None attributes=None\n"
     ]
    }
   ],
   "source": [
    "for u in User.objects.all():\n",
    "    user_data = {\n",
    "        \"key\": f\"{u.id}\",\n",
    "        \"first_name\": f\"{u.username}\"\n",
    "    }\n",
    "    response = await permit.api.users.sync(user_data)\n",
    "    print(response)"
   ]
  },
  {
   "cell_type": "code",
   "execution_count": 20,
   "id": "c4f9a119",
   "metadata": {},
   "outputs": [],
   "source": [
    "resources = [\n",
    "    {\n",
    "        \"name\": \"Document\",\n",
    "        \"key\" : \"document\",\n",
    "        \"actions\" : {\n",
    "            \"read\": {},\n",
    "            \"create\": {},\n",
    "            \"update\": {},\n",
    "            \"delete\" : {},\n",
    "        }\n",
    "    },\n",
    "    {\n",
    "        \"name\": \"Movie Discovery Resource\",\n",
    "        \"key\" : \"movie_discovery\",\n",
    "        \"actions\" : {\n",
    "            \"search\" : {},\n",
    "            \"detail\" : {},\n",
    "        }\n",
    "    }\n",
    "]"
   ]
  },
  {
   "cell_type": "code",
   "execution_count": null,
   "id": "5a16aba4",
   "metadata": {},
   "outputs": [],
   "source": [
    "# readonly_permissions = [\n",
    "#     \"document : read\",\n",
    "#     \"movie_disovery:search\",\n",
    "#     \"movie_disovery:detail\"\n",
    "# ]"
   ]
  },
  {
   "cell_type": "code",
   "execution_count": null,
   "id": "dab8c414",
   "metadata": {},
   "outputs": [],
   "source": [
    "from permit import PermitApiError\n",
    "\n",
    "async def get_or_create_resource(resource_data:dict):\n",
    "    resource_key = resource_data.get('key')\n",
    "    try:\n",
    "        _resource = await permit.api.resources.get(resource_key)\n",
    "    except PermitApiError as e:\n",
    "        if e.status_code == 404:\n",
    "            _resource = await permit.api.resources.create(resource_data)\n",
    "    return _resource"
   ]
  },
  {
   "cell_type": "code",
   "execution_count": 25,
   "id": "ef36e93d",
   "metadata": {},
   "outputs": [
    {
     "name": "stdout",
     "output_type": "stream",
     "text": [
      "key='document' id=UUID('3915a944-3183-4f80-b632-741ee3c44c54') organization_id=UUID('7613bbbb-aafc-477b-928e-e0d4a3f298ca') project_id=UUID('d873adca-2b46-4064-a9d5-76d54732c870') environment_id=UUID('412a05d3-ae9e-444e-9c8d-eef5a5958b51') created_at=datetime.datetime(2025, 8, 14, 14, 58, 26, tzinfo=datetime.timezone.utc) updated_at=datetime.datetime(2025, 8, 14, 14, 58, 26, tzinfo=datetime.timezone.utc) name='Document' urn='prn:abishek-455:default:document' description=None actions={'read': ActionBlockRead(name='read', description=None, attributes=None, v1compat_path=None, v1compat_name=None, id=UUID('9cf2cc63-5d84-4519-8369-dc0dfd0111c9'), key='read'), 'create': ActionBlockRead(name='create', description=None, attributes=None, v1compat_path=None, v1compat_name=None, id=UUID('3df0a708-49d5-4eb6-8c81-f6eede7171fd'), key='create'), 'update': ActionBlockRead(name='update', description=None, attributes=None, v1compat_path=None, v1compat_name=None, id=UUID('64fece55-e411-47d1-a9e0-bbd63eacd3e7'), key='update'), 'delete': ActionBlockRead(name='delete', description=None, attributes=None, v1compat_path=None, v1compat_name=None, id=UUID('951cc7e9-8088-45c1-8560-e11a3491c5b6'), key='delete')} type_attributes=None attributes={} roles={} relations={} v1compat_path=None v1compat_type=None v1compat_name=None action_groups={}\n",
      "key='movie_discovery' id=UUID('cf3240c6-ad45-45ec-aa43-7a9486bdb437') organization_id=UUID('7613bbbb-aafc-477b-928e-e0d4a3f298ca') project_id=UUID('d873adca-2b46-4064-a9d5-76d54732c870') environment_id=UUID('412a05d3-ae9e-444e-9c8d-eef5a5958b51') created_at=datetime.datetime(2025, 8, 14, 14, 58, 38, tzinfo=datetime.timezone.utc) updated_at=datetime.datetime(2025, 8, 14, 14, 58, 38, tzinfo=datetime.timezone.utc) name='Movie Discovery Resource' urn='prn:abishek-455:default:movie_discovery' description=None actions={'search': ActionBlockRead(name='search', description=None, attributes=None, v1compat_path=None, v1compat_name=None, id=UUID('8f0aa36e-ea57-4260-81f7-6edf51886a49'), key='search'), 'detail': ActionBlockRead(name='detail', description=None, attributes=None, v1compat_path=None, v1compat_name=None, id=UUID('4431483d-2fa9-4d21-b599-d9a3d39ee312'), key='detail')} type_attributes=None attributes={} roles={} relations={} v1compat_path=None v1compat_type=None v1compat_name=None action_groups={}\n"
     ]
    }
   ],
   "source": [
    "for resource_data in resources:\n",
    "    response = await get_or_create_resource(resource_data)\n",
    "    print(response)"
   ]
  },
  {
   "cell_type": "code",
   "execution_count": null,
   "id": "4adde88d",
   "metadata": {},
   "outputs": [],
   "source": [
    "roles = [\n",
    "    {\n",
    "        \"name\": \"Manager\",\n",
    "        \"key\" :\"manager\",\n",
    "        \"permissions\" : [\n",
    "            \"document:read\",\n",
    "            \"document:create\",\n",
    "            \"document:update\",\n",
    "            \"document:delete\",\n",
    "            \"movie_discovery:search\",\n",
    "            \"movie_discovery:detail\"\n",
    "        ]\n",
    "    },\n",
    "    {\n",
    "        \"name\": \"Viewer\",\n",
    "        \"key\": \"viewer\",\n",
    "        \"permissions\": [\n",
    "            \"document:read\",\n",
    "            \"movie_discovery:search\",\n",
    "            \"movie_discovery:detail\"\n",
    "        ]\n",
    "    }\n",
    "]"
   ]
  },
  {
   "cell_type": "code",
   "execution_count": 62,
   "id": "45fe0170",
   "metadata": {},
   "outputs": [],
   "source": [
    "from permit import PermitApiError\n",
    "\n",
    "async def get_or_create_role(role_data:dict):\n",
    "    _key = role_data.get('key')\n",
    "    try:\n",
    "        _resource = await permit.api.roles.get(_key)\n",
    "    except PermitApiError as e:\n",
    "        if e.status_code == 404:\n",
    "            _resource = await permit.api.roles.create(role_data)\n",
    "        else:\n",
    "            raise e\n",
    "    return _resource"
   ]
  },
  {
   "cell_type": "code",
   "execution_count": 63,
   "id": "db1ab302",
   "metadata": {},
   "outputs": [
    {
     "name": "stdout",
     "output_type": "stream",
     "text": [
      "name='Manager' description=None permissions=['movie_discovery:search', 'document:update', 'document:read', 'movie_discovery:detail', 'document:delete', 'document:create'] attributes={} extends=[] granted_to=None v1compat_settings=None v1compat_attributes=None key='manager' id=UUID('9bde09c4-0ff8-4f87-a898-a22cbb44cabe') organization_id=UUID('7613bbbb-aafc-477b-928e-e0d4a3f298ca') project_id=UUID('d873adca-2b46-4064-a9d5-76d54732c870') environment_id=UUID('412a05d3-ae9e-444e-9c8d-eef5a5958b51') created_at=datetime.datetime(2025, 8, 14, 15, 33, 48, tzinfo=datetime.timezone.utc) updated_at=datetime.datetime(2025, 8, 14, 15, 33, 48, tzinfo=datetime.timezone.utc)\n",
      "name='viewer' description=None permissions=['document:read'] attributes={} extends=[] granted_to=None v1compat_settings=None v1compat_attributes=None key='viewer' id=UUID('1ba4198e-5ac0-4ec6-a5bc-171dbce1f8e2') organization_id=UUID('7613bbbb-aafc-477b-928e-e0d4a3f298ca') project_id=UUID('d873adca-2b46-4064-a9d5-76d54732c870') environment_id=UUID('412a05d3-ae9e-444e-9c8d-eef5a5958b51') created_at=datetime.datetime(2025, 8, 14, 12, 46, 20, tzinfo=datetime.timezone.utc) updated_at=datetime.datetime(2025, 8, 14, 12, 46, 20, tzinfo=datetime.timezone.utc)\n"
     ]
    }
   ],
   "source": [
    "for role_data in roles:\n",
    "    response = await get_or_create_role(role_data)\n",
    "    print(response)"
   ]
  },
  {
   "cell_type": "code",
   "execution_count": 56,
   "id": "b6d5f95e",
   "metadata": {},
   "outputs": [],
   "source": [
    "user = User.objects.all().first()"
   ]
  },
  {
   "cell_type": "code",
   "execution_count": 57,
   "id": "0ee435e4",
   "metadata": {},
   "outputs": [
    {
     "data": {
      "text/plain": [
       "RoleAssignmentRead(id=UUID('66a96334-072e-4d2d-b2d3-c762ccc00670'), user='1', role='viewer', tenant='default', resource_instance=None, resource_instance_id=None, user_id=UUID('b7270928-62cf-455e-905c-d3afe544bffb'), role_id=UUID('1ba4198e-5ac0-4ec6-a5bc-171dbce1f8e2'), tenant_id=UUID('73198a56-5417-432c-8c13-4d21bfe36102'), organization_id=UUID('7613bbbb-aafc-477b-928e-e0d4a3f298ca'), project_id=UUID('d873adca-2b46-4064-a9d5-76d54732c870'), environment_id=UUID('412a05d3-ae9e-444e-9c8d-eef5a5958b51'), created_at=datetime.datetime(2025, 8, 14, 15, 53, 37, tzinfo=datetime.timezone.utc))"
      ]
     },
     "execution_count": 57,
     "metadata": {},
     "output_type": "execute_result"
    }
   ],
   "source": [
    "response = await permit.api.users.assign_role({\n",
    "    \"user\": f\"{user.id}\",\n",
    "    \"role\": \"viewer\",\n",
    "    \"tenant\": \"default\"\n",
    "\n",
    "})\n",
    "response"
   ]
  },
  {
   "cell_type": "code",
   "execution_count": 60,
   "id": "1d562e0c",
   "metadata": {},
   "outputs": [
    {
     "data": {
      "text/plain": [
       "True"
      ]
     },
     "execution_count": 60,
     "metadata": {},
     "output_type": "execute_result"
    }
   ],
   "source": [
    "await permit.check(\"1\", \"read\", \"document\")"
   ]
  }
 ],
 "metadata": {
  "kernelspec": {
   "display_name": "venv",
   "language": "python",
   "name": "python3"
  },
  "language_info": {
   "codemirror_mode": {
    "name": "ipython",
    "version": 3
   },
   "file_extension": ".py",
   "mimetype": "text/x-python",
   "name": "python",
   "nbconvert_exporter": "python",
   "pygments_lexer": "ipython3",
   "version": "3.12.4"
  }
 },
 "nbformat": 4,
 "nbformat_minor": 5
}
