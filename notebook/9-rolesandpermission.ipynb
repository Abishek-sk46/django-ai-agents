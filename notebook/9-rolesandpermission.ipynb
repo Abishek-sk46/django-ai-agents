{
 "cells": [
  {
   "cell_type": "code",
   "execution_count": 3,
   "id": "6ee44b1f",
   "metadata": {},
   "outputs": [],
   "source": [
    "import setup\n",
    "setup.init()"
   ]
  },
  {
   "cell_type": "code",
   "execution_count": 4,
   "id": "5279e95c",
   "metadata": {},
   "outputs": [],
   "source": [
    "from mypermit import permit_client\n",
    "\n",
    "permit = permit_client"
   ]
  },
  {
   "cell_type": "code",
   "execution_count": 5,
   "id": "2d490d94",
   "metadata": {},
   "outputs": [
    {
     "data": {
      "text/plain": [
       "PaginatedResultUserRead(data=[], total_count=0, page_count=0)"
      ]
     },
     "execution_count": 5,
     "metadata": {},
     "output_type": "execute_result"
    }
   ],
   "source": [
    "await permit.api.users.list()"
   ]
  },
  {
   "cell_type": "code",
   "execution_count": null,
   "id": "c4f9a119",
   "metadata": {},
   "outputs": [],
   "source": [
    "resources = [\n",
    "    {\n",
    "        \"name\": \"Document\",\n",
    "        \"key\" : \"document\",\n",
    "        \"actions\" : {\n",
    "            \"read\": {},\n",
    "            \"create\": {},\n",
    "            \"update\": {},\n",
    "            \"delete\" : {},\n",
    "        }\n",
    "    },\n",
    "    {\n",
    "        \"name\": \"Movie Discovery Resource\",\n",
    "        \"key\" : \"movie_discovery\",\n",
    "        \"actions\" : {\n",
    "            \"search\" : {},\n",
    "            \"detail\" : {},\n",
    "        }\n",
    "    }\n",
    "]"
   ]
  },
  {
   "cell_type": "code",
   "execution_count": null,
   "id": "5a16aba4",
   "metadata": {},
   "outputs": [],
   "source": [
    "# readonly_permissions = [\n",
    "#     \"document : read\",\n",
    "#     \"movie_disovery:search\",\n",
    "#     \"movie_disovery:detail\"\n",
    "# ]"
   ]
  },
  {
   "cell_type": "code",
   "execution_count": null,
   "id": "aa92a233",
   "metadata": {},
   "outputs": [],
   "source": [
    "roles = [\n",
    "    {\n",
    "        \"name\": \"Manager\",\n",
    "        \"key\" :\"manager\",\n",
    "        \"permissions\" : [\n",
    "            \"document:read\",\n",
    "            \"document:create\",\n",
    "            \"document:update\",\n",
    "            \"document:delete\",\n",
    "            \"movie_disovery:search\",\n",
    "            \"movie_disovery:detail\"\n",
    "        ]\n",
    "    },\n",
    "    {\n",
    "        \"name\": \"Viewer\",\n",
    "        \"key\": \"viewer\",\n",
    "        \"permissions\": [\n",
    "            \"document:read\",\n",
    "            \"movie_discovery:search\",\n",
    "            \"movie_disovery:detail\"\n",
    "\n",
    "        ]\n",
    "    }\n",
    "]"
   ]
  }
 ],
 "metadata": {
  "kernelspec": {
   "display_name": "venv",
   "language": "python",
   "name": "python3"
  },
  "language_info": {
   "codemirror_mode": {
    "name": "ipython",
    "version": 3
   },
   "file_extension": ".py",
   "mimetype": "text/x-python",
   "name": "python",
   "nbconvert_exporter": "python",
   "pygments_lexer": "ipython3",
   "version": "3.12.4"
  }
 },
 "nbformat": 4,
 "nbformat_minor": 5
}
