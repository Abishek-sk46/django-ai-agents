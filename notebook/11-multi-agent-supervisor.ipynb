{
 "cells": [
  {
   "cell_type": "code",
   "execution_count": 1,
   "id": "8f3ce99a",
   "metadata": {},
   "outputs": [],
   "source": [
    "import setup\n",
    "setup.init()"
   ]
  },
  {
   "cell_type": "code",
   "execution_count": 2,
   "id": "0bc2db96",
   "metadata": {},
   "outputs": [],
   "source": [
    "from ai.supervisors import get_supervisor"
   ]
  },
  {
   "cell_type": "code",
   "execution_count": 3,
   "id": "25997bf4",
   "metadata": {},
   "outputs": [],
   "source": [
    "from langgraph.checkpoint.memory import InMemorySaver\n",
    "\n",
    "checkpointer = InMemorySaver()"
   ]
  },
  {
   "cell_type": "code",
   "execution_count": 4,
   "id": "7074ec32",
   "metadata": {},
   "outputs": [],
   "source": [
    "supervisor = get_supervisor(model= \"gemini-1.5-flash\", checkpointer = checkpointer)"
   ]
  },
  {
   "cell_type": "code",
   "execution_count": 7,
   "id": "2b086097",
   "metadata": {},
   "outputs": [],
   "source": [
    "import uuid\n",
    "config = {\"configurable\" : {\"user_id\" : \"2\" , \"thread_id\": uuid.uuid4()}}\n",
    "\n",
    "response = supervisor.invoke(\n",
    "    {\n",
    "        \"messages\": \n",
    "        [\n",
    "            {\"role\": \"user\" , \"content\": \"tell about me the mission impossible movie\"}\n",
    "        ]\n",
    "    },\n",
    "    config\n",
    ")"
   ]
  },
  {
   "cell_type": "code",
   "execution_count": 8,
   "id": "abf30fab",
   "metadata": {},
   "outputs": [
    {
     "data": {
      "text/plain": [
       "'I have sent your request to the movie discovery assistant.  Please wait while it gathers information about the Mission Impossible movie.'"
      ]
     },
     "execution_count": 8,
     "metadata": {},
     "output_type": "execute_result"
    }
   ],
   "source": [
    "response['messages'][-1].content"
   ]
  },
  {
   "cell_type": "code",
   "execution_count": null,
   "id": "5809c25e",
   "metadata": {},
   "outputs": [],
   "source": [
    "from ai.tools import documents_tools\n",
    "\n",
    "list_tool = documents_tools[0]  # list_documents\n",
    "try:\n",
    "    result = list_tool.invoke({\"limit\": 5}, config={\"configurable\": {\"user_id\": \"2\"}})\n",
    "    print(f\"List tool result: {result}\")\n",
    "except Exception as e:\n",
    "    print(f\"List tool error: {e}\")"
   ]
  },
  {
   "cell_type": "code",
   "execution_count": null,
   "id": "1633f9ee",
   "metadata": {},
   "outputs": [],
   "source": [
    "# Debug: Check what's in the database\n",
    "import setup\n",
    "setup.init()\n",
    "\n",
    "from documents.models import Document\n",
    "\n",
    "# Check total documents\n",
    "total_docs = Document.objects.all()\n",
    "print(f\"Total documents in database: {total_docs.count()}\")\n",
    "\n",
    "# Check what user_ids exist\n",
    "if total_docs.exists():\n",
    "    for doc in total_docs[:5]:\n",
    "        print(f\"Doc: '{doc.title}', user_id: {doc.user_id} (type: {type(doc.user_id)})\")\n",
    "\n",
    "# Check documents for user \"2\" specifically\n",
    "user_docs = Document.objects.filter(user_id=\"2\")\n",
    "print(f\"Documents for user_id='2': {user_docs.count()}\")\n",
    "\n",
    "# Check if user_id is stored as integer\n",
    "user_docs_int = Document.objects.filter(user_id=2)\n",
    "print(f\"Documents for user_id=2 (int): {user_docs_int.count()}\")"
   ]
  }
 ],
 "metadata": {
  "kernelspec": {
   "display_name": "venv",
   "language": "python",
   "name": "python3"
  },
  "language_info": {
   "codemirror_mode": {
    "name": "ipython",
    "version": 3
   },
   "file_extension": ".py",
   "mimetype": "text/x-python",
   "name": "python",
   "nbconvert_exporter": "python",
   "pygments_lexer": "ipython3",
   "version": "3.12.4"
  }
 },
 "nbformat": 4,
 "nbformat_minor": 5
}
