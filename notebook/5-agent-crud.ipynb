{
 "cells": [
  {
   "cell_type": "code",
   "execution_count": 1,
   "id": "b267ec2c",
   "metadata": {},
   "outputs": [],
   "source": [
    "import setup\n",
    "setup.init()"
   ]
  },
  {
   "cell_type": "code",
   "execution_count": null,
   "id": "42ba2175",
   "metadata": {},
   "outputs": [],
   "source": []
  },
  {
   "cell_type": "code",
   "execution_count": 2,
   "id": "27b34934",
   "metadata": {},
   "outputs": [],
   "source": [
    "\n",
    "from ai.agents import get_agent\n",
    "from langgraph.checkpoint.memory import InMemorySaver\n",
    "import uuid\n",
    "config = {\"configurable\": {\"user_id\": \"3\", \"thread_id\":uuid.uuid4()}}\n",
    "checkpointer = InMemorySaver()\n",
    "agent = get_agent(model = \"gemini-1.5-flash\", checkpointer=checkpointer)\n"
   ]
  },
  {
   "cell_type": "code",
   "execution_count": 5,
   "id": "69025c31",
   "metadata": {},
   "outputs": [
    {
     "data": {
      "text/plain": [
       "'There are no documents currently available.'"
      ]
     },
     "execution_count": 5,
     "metadata": {},
     "output_type": "execute_result"
    }
   ],
   "source": [
    "response = agent.invoke(\n",
    "    {\"messages\":\n",
    "     [\n",
    "        {\"role\":\"user\" , \"content\":\"list the documents\"}\n",
    "     ]\n",
    "     },\n",
    "     config\n",
    ")\n",
    "\n",
    "response['messages'][-1].content"
   ]
  },
  {
   "cell_type": "code",
   "execution_count": null,
   "id": "25a73a33",
   "metadata": {},
   "outputs": [
    {
     "data": {
      "text/plain": [
       "'Currently, there are no documents listed.'"
      ]
     },
     "execution_count": 4,
     "metadata": {},
     "output_type": "execute_result"
    }
   ],
   "source": [
    "response = agent.invoke(\n",
    "    {\"messages\":\n",
    "     [\n",
    "        {\"role\":\"user\" , \"content\":\"what are the documents available\"}\n",
    "     ]\n",
    "     },\n",
    "     config\n",
    ")\n",
    "\n",
    "response['messages'][-1].content"
   ]
  },
  {
   "cell_type": "code",
   "execution_count": null,
   "id": "e8c405ef",
   "metadata": {},
   "outputs": [],
   "source": []
  }
 ],
 "metadata": {
  "kernelspec": {
   "display_name": "venv",
   "language": "python",
   "name": "python3"
  },
  "language_info": {
   "codemirror_mode": {
    "name": "ipython",
    "version": 3
   },
   "file_extension": ".py",
   "mimetype": "text/x-python",
   "name": "python",
   "nbconvert_exporter": "python",
   "pygments_lexer": "ipython3",
   "version": "3.12.4"
  }
 },
 "nbformat": 4,
 "nbformat_minor": 5
}
