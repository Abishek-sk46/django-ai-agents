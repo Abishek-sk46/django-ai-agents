{
 "cells": [
  {
   "cell_type": "code",
   "execution_count": 6,
   "id": "b267ec2c",
   "metadata": {},
   "outputs": [],
   "source": [
    "import setup\n",
    "setup.init()"
   ]
  },
  {
   "cell_type": "code",
   "execution_count": null,
   "id": "42ba2175",
   "metadata": {},
   "outputs": [],
   "source": []
  },
  {
   "cell_type": "code",
   "execution_count": 7,
   "id": "27b34934",
   "metadata": {},
   "outputs": [],
   "source": [
    "\n",
    "from ai.agents import get_agent\n",
    "from langgraph.checkpoint.memory import InMemorySaver\n",
    "import uuid\n",
    "config = {\"configurable\": {\"user_id\": \"3\", \"thread_id\":uuid.uuid4()}}\n",
    "checkpointer = InMemorySaver()\n",
    "agent = get_agent(model = \"gemini-1.5-flash\", checkpointer=checkpointer)\n"
   ]
  },
  {
   "cell_type": "code",
   "execution_count": 8,
   "id": "69025c31",
   "metadata": {},
   "outputs": [
    {
     "data": {
      "text/plain": [
       "\"The available API, `default_api`, offers three core functions for document management:\\n\\n1.  **`list_documents()`**: Retrieves a list of all active documents.  This is useful for getting an overview of the user's stored documents.\\n\\n2.  **`get_document(document_id)`**: Retrieves a specific document based on its unique ID. This allows for accessing the content and title of a particular document.\\n\\n3.  **`create_document(content, title)`**: Creates a new document.  This is the primary function for adding new documents to the system.  It requires both the content (the text of the document) and a title (a string up to 120 characters).\\n\\nIn short, the API excels at providing basic CRUD (Create, Read, Update, Delete) operations, focusing on the creation and retrieval of documents.  It's currently missing a delete or update function.\""
      ]
     },
     "execution_count": 8,
     "metadata": {},
     "output_type": "execute_result"
    }
   ],
   "source": [
    "response = agent.invoke(\n",
    "    {\"messages\":\n",
    "     [\n",
    "        {\"role\":\"user\" , \"content\":\"as a api what can do in best\"}\n",
    "     ]\n",
    "     },\n",
    "     config\n",
    ")\n",
    "\n",
    "response['messages'][-1].content"
   ]
  },
  {
   "cell_type": "code",
   "execution_count": 9,
   "id": "25a73a33",
   "metadata": {},
   "outputs": [
    {
     "data": {
      "text/plain": [
       "'The available tools lack the functionality to update existing documents.  The `default_api` only allows for creating and retrieving documents; there\\'s no `update_document` function.  To \"update\" the Lord of the Rings trilogy, you would need to delete the existing entry (if one exists) and then create a new one with the updated content.  However, the API does not currently support deletion.'"
      ]
     },
     "execution_count": 9,
     "metadata": {},
     "output_type": "execute_result"
    }
   ],
   "source": [
    "response = agent.invoke(\n",
    "    {\"messages\":\n",
    "     [\n",
    "        {\"role\":\"user\" , \"content\":\"Update the Lord of the Rings trilogy\"}\n",
    "     ]\n",
    "     },\n",
    "     config\n",
    ")\n",
    "\n",
    "response['messages'][-1].content"
   ]
  },
  {
   "cell_type": "code",
   "execution_count": null,
   "id": "e8c405ef",
   "metadata": {},
   "outputs": [],
   "source": []
  }
 ],
 "metadata": {
  "kernelspec": {
   "display_name": "venv",
   "language": "python",
   "name": "python3"
  },
  "language_info": {
   "codemirror_mode": {
    "name": "ipython",
    "version": 3
   },
   "file_extension": ".py",
   "mimetype": "text/x-python",
   "name": "python",
   "nbconvert_exporter": "python",
   "pygments_lexer": "ipython3",
   "version": "3.12.4"
  }
 },
 "nbformat": 4,
 "nbformat_minor": 5
}
