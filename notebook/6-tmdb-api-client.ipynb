{
 "cells": [
  {
   "cell_type": "code",
   "execution_count": 2,
   "id": "73ffa374",
   "metadata": {},
   "outputs": [],
   "source": [
    "import setup\n",
    "setup.init()"
   ]
  },
  {
   "cell_type": "code",
   "execution_count": 3,
   "id": "30ac1577",
   "metadata": {},
   "outputs": [],
   "source": [
    "from tmdb import client as tmdb_client"
   ]
  },
  {
   "cell_type": "code",
   "execution_count": 9,
   "id": "11304517",
   "metadata": {},
   "outputs": [],
   "source": [
    "response = tmdb_client.search_movie(\"Mission Impossible\")\n",
    "results = response.get(\"results\")\n",
    "movie_id = results[0].get(\"id\")\n"
   ]
  },
  {
   "cell_type": "code",
   "execution_count": 11,
   "id": "596035de",
   "metadata": {},
   "outputs": [
    {
     "data": {
      "text/plain": [
       "{'adult': False,\n",
       " 'backdrop_path': '/sra8XnL96OyLHENcglmZJg6HA8z.jpg',\n",
       " 'belongs_to_collection': {'id': 87359,\n",
       "  'name': 'Mission: Impossible Collection',\n",
       "  'poster_path': '/geEjCGfdmRAA1skBPwojcdvnZ8A.jpg',\n",
       "  'backdrop_path': '/mroWh717g0Ah2c0rrPGW6f3EWMM.jpg'},\n",
       " 'budget': 80000000,\n",
       " 'genres': [{'id': 12, 'name': 'Adventure'},\n",
       "  {'id': 28, 'name': 'Action'},\n",
       "  {'id': 53, 'name': 'Thriller'}],\n",
       " 'homepage': '',\n",
       " 'id': 954,\n",
       " 'imdb_id': 'tt0117060',\n",
       " 'origin_country': ['US'],\n",
       " 'original_language': 'en',\n",
       " 'original_title': 'Mission: Impossible',\n",
       " 'overview': \"When Ethan Hunt, the leader of a crack espionage team whose perilous operation has gone awry with no explanation, discovers that a mole has penetrated the CIA, he's surprised to learn that he's the prime suspect. To clear his name, Hunt now must ferret out the real double agent and, in the process, even the score.\",\n",
       " 'popularity': 13.9138,\n",
       " 'poster_path': '/l5uxY5m5OInWpcExIpKG6AR3rgL.jpg',\n",
       " 'production_companies': [{'id': 4,\n",
       "   'logo_path': '/gz66EfNoYPqHTYI4q9UEN4CbHRc.png',\n",
       "   'name': 'Paramount Pictures',\n",
       "   'origin_country': 'US'},\n",
       "  {'id': 44,\n",
       "   'logo_path': '/6Hs6K20Hz1W9W1Tiam5QN2Kpx8V.png',\n",
       "   'name': 'Cruise/Wagner Productions',\n",
       "   'origin_country': 'US'}],\n",
       " 'production_countries': [{'iso_3166_1': 'US',\n",
       "   'name': 'United States of America'}],\n",
       " 'release_date': '1996-05-22',\n",
       " 'revenue': 457696391,\n",
       " 'runtime': 110,\n",
       " 'spoken_languages': [{'english_name': 'English',\n",
       "   'iso_639_1': 'en',\n",
       "   'name': 'English'},\n",
       "  {'english_name': 'French', 'iso_639_1': 'fr', 'name': 'Français'},\n",
       "  {'english_name': 'Czech', 'iso_639_1': 'cs', 'name': 'Český'}],\n",
       " 'status': 'Released',\n",
       " 'tagline': 'Expect the impossible.',\n",
       " 'title': 'Mission: Impossible',\n",
       " 'video': False,\n",
       " 'vote_average': 7.006,\n",
       " 'vote_count': 9440}"
      ]
     },
     "execution_count": 11,
     "metadata": {},
     "output_type": "execute_result"
    }
   ],
   "source": [
    "detail_response = tmdb_client.movie_detail(movie_id)\n",
    "detail_response"
   ]
  }
 ],
 "metadata": {
  "kernelspec": {
   "display_name": "venv",
   "language": "python",
   "name": "python3"
  },
  "language_info": {
   "codemirror_mode": {
    "name": "ipython",
    "version": 3
   },
   "file_extension": ".py",
   "mimetype": "text/x-python",
   "name": "python",
   "nbconvert_exporter": "python",
   "pygments_lexer": "ipython3",
   "version": "3.12.4"
  }
 },
 "nbformat": 4,
 "nbformat_minor": 5
}
