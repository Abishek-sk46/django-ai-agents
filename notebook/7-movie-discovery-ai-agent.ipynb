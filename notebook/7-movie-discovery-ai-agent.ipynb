{
 "cells": [
  {
   "cell_type": "code",
   "execution_count": 1,
   "id": "cb6d895b",
   "metadata": {},
   "outputs": [],
   "source": [
    "import setup\n",
    "setup.init()\n"
   ]
  },
  {
   "cell_type": "code",
   "execution_count": 2,
   "id": "7e1f6dee",
   "metadata": {},
   "outputs": [],
   "source": [
    "from langgraph.checkpoint.memory import InMemorySaver\n",
    "\n",
    "checkpoint = InMemorySaver()"
   ]
  },
  {
   "cell_type": "code",
   "execution_count": 3,
   "id": "0e5755e1",
   "metadata": {},
   "outputs": [],
   "source": [
    "from ai.agents import get_movie_discovery_agent"
   ]
  },
  {
   "cell_type": "code",
   "execution_count": 4,
   "id": "0606c2ff",
   "metadata": {},
   "outputs": [],
   "source": [
    "agent = get_movie_discovery_agent(model = \"gemini-1.5-flash\", checkpointer=checkpoint)"
   ]
  },
  {
   "cell_type": "code",
   "execution_count": 5,
   "id": "7ffa3612",
   "metadata": {},
   "outputs": [
    {
     "name": "stdout",
     "output_type": "stream",
     "text": [
      "Searching for user: 2\n"
     ]
    }
   ],
   "source": [
    "import uuid\n",
    "config = {\"configurable\": {\"user_id\": \"2\" , \"thread_id\": uuid.uuid4()}}\n",
    "\n",
    "response = agent.invoke(\n",
    "    {\"messages\" :\n",
    "        [\n",
    "            {\"role\": \"user\", \"content\":\"Tell me about the first loard of the rings movie\"}\n",
    "        ]\n",
    "     },\n",
    "     config\n",
    ")\n",
    "\n"
   ]
  },
  {
   "cell_type": "code",
   "execution_count": null,
   "id": "5f396e13",
   "metadata": {},
   "outputs": [
    {
     "data": {
      "text/plain": [
       "AIMessage(content=\"The Lord of the Rings: The Fellowship of the Ring is a 2001 fantasy adventure film directed by Peter Jackson.  It's the first installment in the Lord of the Rings trilogy and follows the journey of Frodo Baggins as he sets out to destroy the One Ring in the fires of Mount Doom.  The film is based on the first part of J.R.R. Tolkien's novel *The Lord of the Rings*.\", additional_kwargs={}, response_metadata={'prompt_feedback': {'block_reason': 0, 'safety_ratings': []}, 'finish_reason': 'STOP', 'model_name': 'gemini-1.5-flash', 'safety_ratings': []}, id='run--8afd05c3-f53b-48dc-8c6f-033a67d13d6a-0', usage_metadata={'input_tokens': 315, 'output_tokens': 93, 'total_tokens': 408, 'input_token_details': {'cache_read': 0}})"
      ]
     },
     "execution_count": 7,
     "metadata": {},
     "output_type": "execute_result"
    },
    {
     "ename": "",
     "evalue": "",
     "output_type": "error",
     "traceback": [
      "\u001b[1;31mThe Kernel crashed while executing code in the current cell or a previous cell. \n",
      "\u001b[1;31mPlease review the code in the cell(s) to identify a possible cause of the failure. \n",
      "\u001b[1;31mClick <a href='https://aka.ms/vscodeJupyterKernelCrash'>here</a> for more info. \n",
      "\u001b[1;31mView Jupyter <a href='command:jupyter.viewOutput'>log</a> for further details."
     ]
    }
   ],
   "source": [
    "response['messages'][-1]"
   ]
  },
  {
   "cell_type": "code",
   "execution_count": 9,
   "id": "c9edb480",
   "metadata": {},
   "outputs": [
    {
     "name": "stdout",
     "output_type": "stream",
     "text": [
      "Available tools:\n",
      "- __start__\n",
      "- agent\n",
      "- tools\n",
      "- __end__\n",
      "Movie tools: [StructuredTool(name='search_movies', description='Search the most recent 5 movies for the  movie database maximum of 25.\\n\\narguments:\\nquery: string  or lookup search across title or content of movie\\nlimit: number of results to return', args_schema=<class 'langchain_core.utils.pydantic.search_movies'>, func=<function search_movies at 0x000001FEFB93ACA0>), StructuredTool(name='movies_detail', description='Movie detail from the Movie Database if it exists.\\n\\narguments:\\nmovie_id: ID of the movie to retrieve details for', args_schema=<class 'langchain_core.utils.pydantic.movies_detail'>, func=<function movies_detail at 0x000001FEFB93B1A0>)]\n"
     ]
    }
   ],
   "source": [
    "# Add this cell to debug\n",
    "print(\"Available tools:\")\n",
    "for tool in agent.get_graph().nodes:\n",
    "    print(f\"- {tool}\")\n",
    "\n",
    "# Or check the tools directly\n",
    "from ai.tools import movie_discovery_tools\n",
    "print(f\"Movie tools: {movie_discovery_tools}\")"
   ]
  },
  {
   "cell_type": "code",
   "execution_count": 10,
   "id": "c8a8ab37",
   "metadata": {},
   "outputs": [
    {
     "name": "stdout",
     "output_type": "stream",
     "text": [
      "Searching for user: None\n",
      "❌ Search tool error: 'dict' object has no attribute 'status_code'\n",
      "❌ Search tool error: 'dict' object has no attribute 'status_code'\n"
     ]
    }
   ],
   "source": [
    "# Test the search_movies tool directly\n",
    "from ai.tools import movie_discovery_tools\n",
    "\n",
    "search_tool = movie_discovery_tools[0]  # search_movies\n",
    "detail_tool = movie_discovery_tools[1]  # movies_detail\n",
    "\n",
    "# Test search\n",
    "try:\n",
    "    result = search_tool.invoke({\"query\": \"Lord of the Rings\"})\n",
    "    print(f\"✅ Search tool result: {result}\")\n",
    "except Exception as e:\n",
    "    print(f\"❌ Search tool error: {e}\")"
   ]
  },
  {
   "cell_type": "code",
   "execution_count": 11,
   "id": "771875d4",
   "metadata": {},
   "outputs": [
    {
     "name": "stdout",
     "output_type": "stream",
     "text": [
      "✅ TMDB direct test: Found 18 movies\n",
      "First movie: The Lord of the Rings: The Fellowship of the Ring\n"
     ]
    }
   ],
   "source": [
    "from tmdb import client as tmdb_client\n",
    "\n",
    "try:\n",
    "    result = tmdb_client.search_movie(\"Lord of the Rings\")\n",
    "    print(f\"✅ TMDB direct test: Found {len(result.get('results', []))} movies\")\n",
    "    if result.get('results'):\n",
    "        print(f\"First movie: {result['results'][0]['title']}\")\n",
    "except Exception as e:\n",
    "    print(f\"❌ TMDB error: {e}\")"
   ]
  },
  {
   "cell_type": "code",
   "execution_count": 12,
   "id": "ce42ad83",
   "metadata": {},
   "outputs": [
    {
     "name": "stdout",
     "output_type": "stream",
     "text": [
      "Searching for user: None\n",
      "❌ Search tool error: 'dict' object has no attribute 'status_code'\n",
      "❌ Search tool error: 'dict' object has no attribute 'status_code'\n"
     ]
    }
   ],
   "source": [
    "from ai.tools import movie_discovery_tools\n",
    "\n",
    "search_tool = movie_discovery_tools[0]  # search_movies\n",
    "\n",
    "try:\n",
    "    result = search_tool.invoke({\"query\": \"Lord of the Rings\"})\n",
    "    print(f\"✅ Search tool result: {result}\")\n",
    "except Exception as e:\n",
    "    print(f\"❌ Search tool error: {e}\")"
   ]
  }
 ],
 "metadata": {
  "kernelspec": {
   "display_name": "venv",
   "language": "python",
   "name": "python3"
  },
  "language_info": {
   "codemirror_mode": {
    "name": "ipython",
    "version": 3
   },
   "file_extension": ".py",
   "mimetype": "text/x-python",
   "name": "python",
   "nbconvert_exporter": "python",
   "pygments_lexer": "ipython3",
   "version": "3.12.4"
  }
 },
 "nbformat": 4,
 "nbformat_minor": 5
}
